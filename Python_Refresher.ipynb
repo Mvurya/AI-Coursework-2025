{
 "cells": [
  {
   "cell_type": "code",
   "execution_count": null,
   "metadata": {},
   "outputs": [
    {
     "name": "stdout",
     "output_type": "stream",
     "text": [
      "7 days is equal to 604800 seconds\n"
     ]
    }
   ],
   "source": [
    "# Program 1: Convert number of days into seconds\n",
    "\n",
    "# Ask user for input\n",
    "days = int(input(\"Enter number of days: \"))\n",
    "\n",
    "# Convert days to seconds\n",
    "seconds = days * 24 * 60 * 60\n",
    "\n",
    "# Output result\n",
    "print(f\"{days} days is equal to {seconds} seconds\")\n"
   ]
  },
  {
   "cell_type": "code",
   "execution_count": 2,
   "metadata": {},
   "outputs": [
    {
     "name": "stdout",
     "output_type": "stream",
     "text": [
      "Volume of the sphere with radius 6.0 is 904.78\n"
     ]
    }
   ],
   "source": [
    "# Program 2: Calculate volume of a sphere\n",
    "import math\n",
    "\n",
    "# Ask user for radius\n",
    "r = float(input(\"Enter radius of the sphere: \"))\n",
    "\n",
    "# Formula: (4/3) * π * r^3\n",
    "volume = (4/3) * math.pi * (r ** 3)\n",
    "\n",
    "# Output result\n",
    "print(f\"Volume of the sphere with radius {r} is {volume:.2f}\")\n"
   ]
  },
  {
   "cell_type": "code",
   "execution_count": null,
   "metadata": {},
   "outputs": [],
   "source": [
    "# Program 3: Functions to calculate area and perimeter of a square\n",
    "\n",
    "# Function definitions\n",
    "def area(side):\n",
    "    return side * side\n",
    "\n",
    "def perimeter(side):\n",
    "    return 4 * side\n",
    "\n",
    "# Ask user for side length\n",
    "s = float(input(\"Enter the side length of the square: \"))\n",
    "\n",
    "# Calculate and display\n",
    "print(\"Area:\", area(s))\n",
    "print(\"Perimeter:\", perimeter(s))\n"
   ]
  },
  {
   "cell_type": "code",
   "execution_count": null,
   "metadata": {},
   "outputs": [],
   "source": [
    "# Program 4: Determine if a character is uppercase or lowercase\n",
    "\n",
    "def check_case(ch):\n",
    "    if ch.isupper():\n",
    "        return \"Uppercase\"\n",
    "    elif ch.islower():\n",
    "        return \"Lowercase\"\n",
    "    else:\n",
    "        return \"Not a letter\"\n",
    "\n",
    "# Ask user for a character\n",
    "char = input(\"Enter a single character: \")\n",
    "\n",
    "# Display result\n",
    "print(f\"{char} is {check_case(char)}\")\n"
   ]
  },
  {
   "cell_type": "code",
   "execution_count": null,
   "metadata": {},
   "outputs": [],
   "source": [
    "# Program 5: Convert pseudocode into Python\n",
    "\n",
    "x = 0\n",
    "y = 20\n",
    "\n",
    "# Repeat until y < 6\n",
    "while y >= 6:\n",
    "    y = y - 4\n",
    "    x = x + (2 / y)\n",
    "\n",
    "# Display result\n",
    "print(\"Final value of x:\", x)\n"
   ]
  },
  {
   "cell_type": "code",
   "execution_count": null,
   "metadata": {},
   "outputs": [],
   "source": [
    "# Program 6: Input 5 values into an array and compute average\n",
    "\n",
    "numbers = []  # empty list\n",
    "\n",
    "# Loop to get 5 values\n",
    "for i in range(5):\n",
    "    val = float(input(f\"Enter value {i+1}: \"))\n",
    "    numbers.append(val)\n",
    "\n",
    "# Calculate average\n",
    "average = sum(numbers) / len(numbers)\n",
    "\n",
    "# Display result\n",
    "print(\"The numbers are:\", numbers)\n",
    "print(\"Average:\", average)\n"
   ]
  }
 ],
 "metadata": {
  "kernelspec": {
   "display_name": "Python 3",
   "language": "python",
   "name": "python3"
  },
  "language_info": {
   "codemirror_mode": {
    "name": "ipython",
    "version": 3
   },
   "file_extension": ".py",
   "mimetype": "text/x-python",
   "name": "python",
   "nbconvert_exporter": "python",
   "pygments_lexer": "ipython3",
   "version": "3.12.6"
  }
 },
 "nbformat": 4,
 "nbformat_minor": 2
}
